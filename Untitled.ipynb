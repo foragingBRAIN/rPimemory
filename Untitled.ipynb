{
 "cells": [
  {
   "cell_type": "code",
   "execution_count": 1,
   "metadata": {
    "collapsed": true
   },
   "outputs": [],
   "source": []
  },
  {
   "cell_type": "code",
   "execution_count": null,
   "metadata": {
    "collapsed": false
   },
   "outputs": [
    {
     "name": "stdout",
     "output_type": "stream",
     "text": [
      "Connection time 1555622945.1275637\n",
      "Received data: b'START!'\n",
      "Received time: 1555622945.1431637\n"
     ]
    }
   ],
   "source": [
    "import socket, time\n",
    "from datetime import datetime\n",
    "monkey= 'kraut'\n",
    "rootPath = \"C:/Users/Hannah/Documents/github/rPimemory/data/\"\n",
    "\n",
    "currDate = time.localtime(time.time())\n",
    "dataPath = rootPath + monkey + \"_synctime\" + \"_{year}-{month}-{day}_{hours}-{minutes}-{seconds}.txt\".format(year=currDate[0],month=currDate[1],day=currDate[2],hours=currDate[3],minutes=currDate[4],seconds=currDate[5])\n",
    "fidData  = open(dataPath, 'w')\n",
    "\n",
    "dataStr  = \"connTime\"\n",
    "fidData.write(dataStr)\n",
    "\n",
    "TCP_IP = '192.168.0.214'  # 2nd Pi IP\n",
    "#TCP_IP = '192.168.0.200'  # 1st Pi IP\n",
    "TCP_PORT = 1234\n",
    "BUFFER_SIZE = 24\n",
    "MESSAGE = \"START!\"\n",
    "s = socket.socket(socket.AF_INET, socket.SOCK_STREAM)\n",
    "s.connect((TCP_IP, TCP_PORT))\n",
    "\n",
    "timenow = datetime.now()\n",
    "ts_timenow = timenow.hour*3600+timenow.minute*60+timenow.second+timenow.microsecond/1000000\n",
    "dataStr  = \"\\n{ct}\".format(ct=ts_timenow)\n",
    "fidData.write(dataStr)\n",
    "\n",
    "print(\"Connection time\", time.time())\n",
    "s.send((MESSAGE).encode())\n",
    "data = s.recv(BUFFER_SIZE)\n",
    "s.close()\n",
    "print(\"Received data:\", data)\n",
    "pcrecpiTime = time.time()\n",
    "print(\"Received time:\", pcrecpiTime)\n",
    "\n",
    "timenow = datetime.now()\n",
    "ts_timenow = timenow.hour*3600+timenow.minute*60+timenow.second+timenow.microsecond/1000000\n",
    "\n",
    "dataStr  = \"\\n\"\n",
    "fidData.write(dataStr)\n",
    "dataStr  = \"pcrecpiTime\"\n",
    "fidData.write(dataStr)\n",
    "dataStr  = \"\\n{pt}\".format(pt=ts_timenow)\n",
    "fidData.write(dataStr)\n",
    "\n",
    "# change to client listening to Pi stopping command\n",
    "TCP_IP = '192.168.0.71'   # laptop IP\n",
    "TCP_PORT = 1234\n",
    "BUFFER_SIZE = 24\n",
    "s = socket.socket(socket.AF_INET, socket.SOCK_STREAM)\n",
    "s.bind((TCP_IP, TCP_PORT))\n",
    "s.listen(1)\n",
    "conn, addr = s.accept()\n",
    "\n",
    "while 1:\n",
    "    data = conn.recv(BUFFER_SIZE)\n",
    "    if not data: break\n",
    "    print(\"Received data:\", data)\n",
    "    pistopTime = time.time()\n",
    "    print(\"Pi stopped time:\", pistopTime)\n",
    "conn.close()\n",
    "\n",
    "timenow = datetime.now()\n",
    "ts_timenow = timenow.hour*3600+timenow.minute*60+timenow.second+timenow.microsecond/1000000\n",
    "\n",
    "dataStr  = \"\\n\"\n",
    "fidData.write(dataStr)\n",
    "dataStr  = \"pistopTime\"\n",
    "fidData.write(dataStr)\n",
    "dataStr  = \"\\n{pst}\".format(pst=ts_timenow)\n",
    "fidData.write(dataStr)\n",
    "fidData.close()"
   ]
  },
  {
   "cell_type": "code",
   "execution_count": 5,
   "metadata": {
    "collapsed": false
   },
   "outputs": [
    {
     "ename": "SyntaxError",
     "evalue": "invalid syntax (<ipython-input-5-e99da32c73cb>, line 1)",
     "output_type": "error",
     "traceback": [
      "\u001b[1;36m  File \u001b[1;32m\"<ipython-input-5-e99da32c73cb>\"\u001b[1;36m, line \u001b[1;32m1\u001b[0m\n\u001b[1;33m    Connection time 1552417072.7534788\u001b[0m\n\u001b[1;37m                  ^\u001b[0m\n\u001b[1;31mSyntaxError\u001b[0m\u001b[1;31m:\u001b[0m invalid syntax\n"
     ]
    }
   ],
   "source": [
    "Connection time 1552417072.7534788\n",
    "Received data: b'START!'\n",
    "Received time: 1552417073.2910788\n",
    "Received data: b'Pi Stopped!'\n",
    "Pi stopped time: 1552418511.8868961"
   ]
  },
  {
   "cell_type": "code",
   "execution_count": null,
   "metadata": {
    "collapsed": true
   },
   "outputs": [],
   "source": [
    "Connection time 1551475590.4171627\n",
    "Received data: b'START!'\n",
    "Received time: 1551475590.4327629\n",
    "Received data: b'Pi Stopped!'\n",
    "Pi stopped time: 1551475903.5733674"
   ]
  },
  {
   "cell_type": "code",
   "execution_count": 2,
   "metadata": {
    "collapsed": false
   },
   "outputs": [
    {
     "data": {
      "text/plain": [
       "1552333438.3076382"
      ]
     },
     "execution_count": 2,
     "metadata": {},
     "output_type": "execute_result"
    }
   ],
   "source": [
    "time.time()"
   ]
  },
  {
   "cell_type": "code",
   "execution_count": null,
   "metadata": {
    "collapsed": true
   },
   "outputs": [],
   "source": [
    "Connection time 1552412767.9161417\n",
    "Received data: b'START!'\n",
    "Received time: 1552412768.1108956"
   ]
  },
  {
   "cell_type": "code",
   "execution_count": null,
   "metadata": {
    "collapsed": true
   },
   "outputs": [],
   "source": [
    "\n"
   ]
  }
 ],
 "metadata": {
  "anaconda-cloud": {},
  "kernelspec": {
   "display_name": "Python [default]",
   "language": "python",
   "name": "python3"
  },
  "language_info": {
   "codemirror_mode": {
    "name": "ipython",
    "version": 3
   },
   "file_extension": ".py",
   "mimetype": "text/x-python",
   "name": "python",
   "nbconvert_exporter": "python",
   "pygments_lexer": "ipython3",
   "version": "3.5.2"
  }
 },
 "nbformat": 4,
 "nbformat_minor": 1
}
