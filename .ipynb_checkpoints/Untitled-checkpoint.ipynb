{
 "cells": [
  {
   "cell_type": "code",
   "execution_count": 1,
   "metadata": {
    "collapsed": true
   },
   "outputs": [],
   "source": []
  },
  {
   "cell_type": "code",
   "execution_count": 1,
   "metadata": {
    "collapsed": false
   },
   "outputs": [
    {
     "ename": "FileNotFoundError",
     "evalue": "[Errno 2] No such file or directory: 'C:/Users/admin/Documents/GitHub/rPimemory/data/kraut_synctime_2019-3-22_15-11-57.txt'",
     "output_type": "error",
     "traceback": [
      "\u001b[0;31m---------------------------------------------------------------------------\u001b[0m",
      "\u001b[0;31mFileNotFoundError\u001b[0m                         Traceback (most recent call last)",
      "\u001b[0;32m<ipython-input-1-e6a211b0932c>\u001b[0m in \u001b[0;36m<module>\u001b[0;34m()\u001b[0m\n\u001b[1;32m      6\u001b[0m \u001b[0mcurrDate\u001b[0m \u001b[1;33m=\u001b[0m \u001b[0mtime\u001b[0m\u001b[1;33m.\u001b[0m\u001b[0mlocaltime\u001b[0m\u001b[1;33m(\u001b[0m\u001b[0mtime\u001b[0m\u001b[1;33m.\u001b[0m\u001b[0mtime\u001b[0m\u001b[1;33m(\u001b[0m\u001b[1;33m)\u001b[0m\u001b[1;33m)\u001b[0m\u001b[1;33m\u001b[0m\u001b[0m\n\u001b[1;32m      7\u001b[0m \u001b[0mdataPath\u001b[0m \u001b[1;33m=\u001b[0m \u001b[0mrootPath\u001b[0m \u001b[1;33m+\u001b[0m \u001b[0mmonkey\u001b[0m \u001b[1;33m+\u001b[0m \u001b[1;34m\"_synctime\"\u001b[0m \u001b[1;33m+\u001b[0m \u001b[1;34m\"_{year}-{month}-{day}_{hours}-{minutes}-{seconds}.txt\"\u001b[0m\u001b[1;33m.\u001b[0m\u001b[0mformat\u001b[0m\u001b[1;33m(\u001b[0m\u001b[0myear\u001b[0m\u001b[1;33m=\u001b[0m\u001b[0mcurrDate\u001b[0m\u001b[1;33m[\u001b[0m\u001b[1;36m0\u001b[0m\u001b[1;33m]\u001b[0m\u001b[1;33m,\u001b[0m\u001b[0mmonth\u001b[0m\u001b[1;33m=\u001b[0m\u001b[0mcurrDate\u001b[0m\u001b[1;33m[\u001b[0m\u001b[1;36m1\u001b[0m\u001b[1;33m]\u001b[0m\u001b[1;33m,\u001b[0m\u001b[0mday\u001b[0m\u001b[1;33m=\u001b[0m\u001b[0mcurrDate\u001b[0m\u001b[1;33m[\u001b[0m\u001b[1;36m2\u001b[0m\u001b[1;33m]\u001b[0m\u001b[1;33m,\u001b[0m\u001b[0mhours\u001b[0m\u001b[1;33m=\u001b[0m\u001b[0mcurrDate\u001b[0m\u001b[1;33m[\u001b[0m\u001b[1;36m3\u001b[0m\u001b[1;33m]\u001b[0m\u001b[1;33m,\u001b[0m\u001b[0mminutes\u001b[0m\u001b[1;33m=\u001b[0m\u001b[0mcurrDate\u001b[0m\u001b[1;33m[\u001b[0m\u001b[1;36m4\u001b[0m\u001b[1;33m]\u001b[0m\u001b[1;33m,\u001b[0m\u001b[0mseconds\u001b[0m\u001b[1;33m=\u001b[0m\u001b[0mcurrDate\u001b[0m\u001b[1;33m[\u001b[0m\u001b[1;36m5\u001b[0m\u001b[1;33m]\u001b[0m\u001b[1;33m)\u001b[0m\u001b[1;33m\u001b[0m\u001b[0m\n\u001b[0;32m----> 8\u001b[0;31m \u001b[0mfidData\u001b[0m  \u001b[1;33m=\u001b[0m \u001b[0mopen\u001b[0m\u001b[1;33m(\u001b[0m\u001b[0mdataPath\u001b[0m\u001b[1;33m,\u001b[0m \u001b[1;34m'w'\u001b[0m\u001b[1;33m)\u001b[0m\u001b[1;33m\u001b[0m\u001b[0m\n\u001b[0m\u001b[1;32m      9\u001b[0m \u001b[1;33m\u001b[0m\u001b[0m\n\u001b[1;32m     10\u001b[0m \u001b[0mdataStr\u001b[0m  \u001b[1;33m=\u001b[0m \u001b[1;34m\"connTime\"\u001b[0m\u001b[1;33m\u001b[0m\u001b[0m\n",
      "\u001b[0;31mFileNotFoundError\u001b[0m: [Errno 2] No such file or directory: 'C:/Users/admin/Documents/GitHub/rPimemory/data/kraut_synctime_2019-3-22_15-11-57.txt'"
     ]
    }
   ],
   "source": [
    "import socket, time\n",
    "from datetime import datetime\n",
    "monkey= 'kraut'\n",
    "rootPath = \"C:/Users/Hannah/Documents/github/rPimemory/data/\"\n",
    "\n",
    "currDate = time.localtime(time.time())\n",
    "dataPath = rootPath + monkey + \"_synctime\" + \"_{year}-{month}-{day}_{hours}-{minutes}-{seconds}.txt\".format(year=currDate[0],month=currDate[1],day=currDate[2],hours=currDate[3],minutes=currDate[4],seconds=currDate[5])\n",
    "fidData  = open(dataPath, 'w')\n",
    "\n",
    "dataStr  = \"connTime\"\n",
    "fidData.write(dataStr)\n",
    "\n",
    "TCP_IP = '192.168.0.214'  # 2nd Pi IP\n",
    "#TCP_IP = '192.168.0.200'  # 1st Pi IP\n",
    "TCP_PORT = 1234\n",
    "BUFFER_SIZE = 24\n",
    "MESSAGE = \"START!\"\n",
    "s = socket.socket(socket.AF_INET, socket.SOCK_STREAM)\n",
    "s.connect((TCP_IP, TCP_PORT))\n",
    "\n",
    "timenow = datetime.now()\n",
    "ts_timenow = timenow.hour*3600+timenow.minute*60+timenow.second+timenow.microsecond/1000000\n",
    "dataStr  = \"\\n{ct}\".format(ct=ts_timenow)\n",
    "fidData.write(dataStr)\n",
    "\n",
    "print(\"Connection time\", time.time())\n",
    "s.send((MESSAGE).encode())\n",
    "data = s.recv(BUFFER_SIZE)\n",
    "s.close()\n",
    "print(\"Received data:\", data)\n",
    "pcrecpiTime = time.time()\n",
    "print(\"Received time:\", pcrecpiTime)\n",
    "\n",
    "timenow = datetime.now()\n",
    "ts_timenow = timenow.hour*3600+timenow.minute*60+timenow.second+timenow.microsecond/1000000\n",
    "\n",
    "dataStr  = \"\\n\"\n",
    "fidData.write(dataStr)\n",
    "dataStr  = \"pcrecpiTime\"\n",
    "fidData.write(dataStr)\n",
    "dataStr  = \"\\n{pt}\".format(pt=ts_timenow)\n",
    "fidData.write(dataStr)\n",
    "\n",
    "# change to client listening to Pi stopping command\n",
    "TCP_IP = '192.168.0.71'   # laptop IP\n",
    "TCP_PORT = 1234\n",
    "BUFFER_SIZE = 24\n",
    "s = socket.socket(socket.AF_INET, socket.SOCK_STREAM)\n",
    "s.bind((TCP_IP, TCP_PORT))\n",
    "s.listen(1)\n",
    "conn, addr = s.accept()\n",
    "\n",
    "while 1:\n",
    "    data = conn.recv(BUFFER_SIZE)\n",
    "    if not data: break\n",
    "    print(\"Received data:\", data)\n",
    "    pistopTime = time.time()\n",
    "    print(\"Pi stopped time:\", pistopTime)\n",
    "conn.close()\n",
    "\n",
    "timenow = datetime.now()\n",
    "ts_timenow = timenow.hour*3600+timenow.minute*60+timenow.second+timenow.microsecond/1000000\n",
    "\n",
    "dataStr  = \"\\n\"\n",
    "fidData.write(dataStr)\n",
    "dataStr  = \"pistopTime\"\n",
    "fidData.write(dataStr)\n",
    "dataStr  = \"\\n{pst}\".format(pst=ts_timenow)\n",
    "fidData.write(dataStr)\n",
    "fidData.close()"
   ]
  },
  {
   "cell_type": "code",
   "execution_count": 5,
   "metadata": {
    "collapsed": false
   },
   "outputs": [
    {
     "ename": "SyntaxError",
     "evalue": "invalid syntax (<ipython-input-5-e99da32c73cb>, line 1)",
     "output_type": "error",
     "traceback": [
      "\u001b[1;36m  File \u001b[1;32m\"<ipython-input-5-e99da32c73cb>\"\u001b[1;36m, line \u001b[1;32m1\u001b[0m\n\u001b[1;33m    Connection time 1552417072.7534788\u001b[0m\n\u001b[1;37m                  ^\u001b[0m\n\u001b[1;31mSyntaxError\u001b[0m\u001b[1;31m:\u001b[0m invalid syntax\n"
     ]
    }
   ],
   "source": [
    "Connection time 1552417072.7534788\n",
    "Received data: b'START!'\n",
    "Received time: 1552417073.2910788\n",
    "Received data: b'Pi Stopped!'\n",
    "Pi stopped time: 1552418511.8868961"
   ]
  },
  {
   "cell_type": "code",
   "execution_count": null,
   "metadata": {
    "collapsed": true
   },
   "outputs": [],
   "source": [
    "Connection time 1551475590.4171627\n",
    "Received data: b'START!'\n",
    "Received time: 1551475590.4327629\n",
    "Received data: b'Pi Stopped!'\n",
    "Pi stopped time: 1551475903.5733674"
   ]
  },
  {
   "cell_type": "code",
   "execution_count": 2,
   "metadata": {
    "collapsed": false
   },
   "outputs": [
    {
     "data": {
      "text/plain": [
       "1552333438.3076382"
      ]
     },
     "execution_count": 2,
     "metadata": {},
     "output_type": "execute_result"
    }
   ],
   "source": [
    "time.time()"
   ]
  },
  {
   "cell_type": "code",
   "execution_count": null,
   "metadata": {
    "collapsed": true
   },
   "outputs": [],
   "source": [
    "Connection time 1552412767.9161417\n",
    "Received data: b'START!'\n",
    "Received time: 1552412768.1108956"
   ]
  },
  {
   "cell_type": "code",
   "execution_count": null,
   "metadata": {
    "collapsed": true
   },
   "outputs": [],
   "source": [
    "\n"
   ]
  }
 ],
 "metadata": {
  "anaconda-cloud": {},
  "kernelspec": {
   "display_name": "Python [default]",
   "language": "python",
   "name": "python3"
  },
  "language_info": {
   "codemirror_mode": {
    "name": "ipython",
    "version": 3
   },
   "file_extension": ".py",
   "mimetype": "text/x-python",
   "name": "python",
   "nbconvert_exporter": "python",
   "pygments_lexer": "ipython3",
   "version": "3.5.2"
  }
 },
 "nbformat": 4,
 "nbformat_minor": 1
}
