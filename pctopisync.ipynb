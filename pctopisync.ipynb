{
 "cells": [
  {
   "cell_type": "code",
   "execution_count": 1,
   "metadata": {
    "collapsed": true
   },
   "outputs": [],
   "source": []
  },
  {
   "cell_type": "code",
   "execution_count": 2,
   "metadata": {
    "collapsed": false
   },
   "outputs": [
    {
     "name": "stdout",
     "output_type": "stream",
     "text": [
      "Connection time 1550101863.0474803\n",
      "Received data: b'START!'\n",
      "Received time: 1550101863.0534806\n",
      "Received data: b'Pi Stopped!'\n",
      "Pi stopped time: 1550102114.7759583\n"
     ]
    }
   ],
   "source": [
    "import socket, time\n",
    "TCP_IP = '192.168.0.200'  # Pi IP\n",
    "TCP_PORT = 1234\n",
    "BUFFER_SIZE = 24\n",
    "MESSAGE = \"START!\"\n",
    "s = socket.socket(socket.AF_INET, socket.SOCK_STREAM)\n",
    "s.connect((TCP_IP, TCP_PORT))\n",
    "connTime = time.time()\n",
    "print(\"Connection time\", time.time())\n",
    "s.send((MESSAGE).encode())\n",
    "data = s.recv(BUFFER_SIZE)\n",
    "s.close()\n",
    "print(\"Received data:\", data)\n",
    "monkey = \"kraut\"\n",
    "pcrecpiTime = time.time()\n",
    "print(\"Received time:\", time.time())\n",
    "\n",
    "# change to client listening to Pi stopping command\n",
    "TCP_IP = '192.168.0.107'   # laptop IP\n",
    "TCP_PORT = 1234\n",
    "BUFFER_SIZE = 24\n",
    "s = socket.socket(socket.AF_INET, socket.SOCK_STREAM)\n",
    "s.bind((TCP_IP, TCP_PORT))\n",
    "s.listen(1)\n",
    "conn, addr = s.accept()\n",
    "\n",
    "while 1:\n",
    "    data = conn.recv(BUFFER_SIZE)\n",
    "    if not data: break\n",
    "    print(\"Received data:\", data)\n",
    "    pistopTime = time.time()\n",
    "    print(\"Pi stopped time:\", time.time())\n",
    "conn.close()\n",
    "\n",
    "rootPath = \"C:/Users/Hannah/Documents/github/rPimemory/data/\"\n",
    "currDate = time.localtime(time.time())\n",
    "dataPath = rootPath + monkey + \"_synctime\" + \"_{year}-{month}-{day}_{hours}-{minutes}-{seconds}.txt\".format(year=currDate[0],month=currDate[1],day=currDate[2],hours=currDate[3],minutes=currDate[4],seconds=currDate[5])\n",
    "fidData  = open(dataPath, 'w')\n",
    "dataStr  = \"connTime, pcrecpiTime, pistopTime\"\n",
    "fidData.write(dataStr)\n",
    "dataStr  = \"\\n{ct},{prpt},{pst}\".format(ct=connTime,prpt=pcrecpiTime,pst=pistopTime)\n",
    "fidData.write(dataStr)\n",
    "fidData.close()"
   ]
  },
  {
   "cell_type": "code",
   "execution_count": 19,
   "metadata": {
    "collapsed": false
   },
   "outputs": [],
   "source": []
  },
  {
   "cell_type": "code",
   "execution_count": 14,
   "metadata": {
    "collapsed": false
   },
   "outputs": [
    {
     "data": {
      "text/plain": [
       "(1550086320.696416, 1550086320.7014163, 1550086379.0812063)"
      ]
     },
     "execution_count": 14,
     "metadata": {},
     "output_type": "execute_result"
    }
   ],
   "source": [
    "connTime, pcrecpiTime, pistopTime"
   ]
  },
  {
   "cell_type": "code",
   "execution_count": null,
   "metadata": {
    "collapsed": true
   },
   "outputs": [],
   "source": []
  },
  {
   "cell_type": "code",
   "execution_count": null,
   "metadata": {
    "collapsed": true
   },
   "outputs": [],
   "source": []
  },
  {
   "cell_type": "code",
   "execution_count": null,
   "metadata": {
    "collapsed": true
   },
   "outputs": [],
   "source": []
  }
 ],
 "metadata": {
  "anaconda-cloud": {},
  "kernelspec": {
   "display_name": "Python [conda root]",
   "language": "python",
   "name": "conda-root-py"
  },
  "language_info": {
   "codemirror_mode": {
    "name": "ipython",
    "version": 3
   },
   "file_extension": ".py",
   "mimetype": "text/x-python",
   "name": "python",
   "nbconvert_exporter": "python",
   "pygments_lexer": "ipython3",
   "version": "3.5.2"
  }
 },
 "nbformat": 4,
 "nbformat_minor": 1
}
